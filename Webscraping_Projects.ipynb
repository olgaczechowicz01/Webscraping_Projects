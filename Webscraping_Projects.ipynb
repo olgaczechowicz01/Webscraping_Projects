{
  "cells": [
    {
      "cell_type": "markdown",
      "source": [
        "# Collection of Webscraping Projects - Olga Czechowicz"
      ],
      "metadata": {
        "id": "knnHO2u-4s7I"
      }
    },
    {
      "cell_type": "markdown",
      "source": [
        "## Project 1\n",
        "\n",
        "Creating a dictionary that holds information about random Wikipedia articles, using Wikipedia API.\n",
        "\n",
        "Furthermore, the final dictionary will have the accumulated sum of page views of a given article in the last 60 days."
      ],
      "metadata": {
        "id": "_wgdiFkZ0zEL"
      }
    },
    {
      "cell_type": "code",
      "execution_count": null,
      "metadata": {
        "id": "pMGh06wQFhCC"
      },
      "outputs": [],
      "source": [
        "## Import module requests\n",
        "import requests as rq  ## noqa\n",
        "\n",
        "## Some page ids\n",
        "page_ids = [\n",
        "    19969580,\n",
        "    39982842,\n",
        "    25699035,\n",
        "    52642931,\n",
        "    53055349,\n",
        "    24133565,\n",
        "    1164662,\n",
        "    40656459,\n",
        "    12533026,\n",
        "    47110862,\n",
        "]\n",
        "\n",
        "## API URL\n",
        "BASE_URL = \"https://en.wikipedia.org/w/api.php\""
      ]
    },
    {
      "cell_type": "code",
      "execution_count": null,
      "metadata": {
        "id": "Dbv_yqjMFhCC"
      },
      "outputs": [],
      "source": [
        "page_ids_string = \"|\".join(str(p) for p in page_ids)\n",
        "\n",
        "# Below, I defined the query string parameters to pass to the 'get' request:\n",
        "payload = {\n",
        "      \"action\": \"query\", # the action is a query\n",
        "      \"prop\" : \"pageviews\", # to specify the exact method for extracting which exact property\n",
        "      \"pageids\" : page_ids_string, # the flattened string with all page ids\n",
        "      \"pageviews\" : \"pageviews\", # although this argument is the default, I preferred to explicitly define this parameter for caution's and clarity's sake\n",
        "      \"pvipdays\" : 60, # although 60 is the default, I preferred to explicitly define this parameter for caution's and clarity's sake\n",
        "      \"format\" : \"json\"}\n",
        "\n",
        "# Now, we can send the 'get' request to the Wikipedia API:\n",
        "response = rq.get(BASE_URL, params=payload)\n",
        "\n",
        "print(response)\n",
        "# Response[200] was printed - meaning the request was succesful.\n",
        "\n",
        "# Below, I extract the data from the json file in the response into a dictionary:\n",
        "data = response.json()"
      ]
    },
    {
      "cell_type": "code",
      "source": [
        "pages = data['query']['pages']\n",
        "\n",
        "pages['19969580']['pageviews'].values()\n",
        "# This returns a list that can be even summed easily,\n",
        "# NOTE HOWEVER, some values are NONE, and I noticed that when I tried to run the following code to sum the page views:\n",
        "# sum(article_dict['19969580']['pageviews'].values())\n",
        "\n",
        "# I made this following modification, that was basically a quick list comprehension to only account for non-None values\n",
        "# set with if a is not None condition.\n",
        "sum(a for a in pages['19969580']['pageviews'].values() if a is not None)\n",
        "\n",
        "# In this step I located the page view values for the article, and figured a way of summing them up.\n"
      ],
      "metadata": {
        "collapsed": true,
        "id": "LqrQCGvK1QY1"
      },
      "execution_count": null,
      "outputs": []
    },
    {
      "cell_type": "code",
      "source": [
        "# Creating an empty 'results' dictionary, that would hold the page id and number of page views in total over last 60 days,\n",
        "# using a for loop.\n",
        "\n",
        "results = dict()\n",
        "\n",
        "for page in pages:\n",
        "    total_views = sum(value for value in pages[page]['pageviews'].values() if value is not None)\n",
        "    results[int(page)] = total_views\n",
        "\n",
        "print(results)\n",
        "results\n",
        "# When printed, or shown in console, we can see the dictionary was succesfully created."
      ],
      "metadata": {
        "id": "D64e1gwa8CYN"
      },
      "execution_count": null,
      "outputs": []
    },
    {
      "cell_type": "markdown",
      "metadata": {
        "id": "BtA0W49LFhCC"
      },
      "source": [
        "## Project 2\n",
        "Gathering 20 random Wikipedia articles that have the names \"Olivia\" and \"Noah\" in their title, and then counting the frequency of possesive pronouns (\"his\", \"her\" and \"their\") in these articles.\n"
      ]
    },
    {
      "cell_type": "code",
      "execution_count": null,
      "metadata": {
        "id": "r6NvrKQlFhCC"
      },
      "outputs": [],
      "source": [
        "## Import module requests\n",
        "import requests as rq  ## noqa\n",
        "\n",
        "URL = \"https://en.wikipedia.org/w/api.php\""
      ]
    },
    {
      "cell_type": "code",
      "source": [
        "# PART 1: Downloading the 20 articles - 10 with 'Olivia\" and 10 with \"Noah\" in the title.\n",
        "\n",
        "names = [\"Olivia\", \"Noah\"]\n",
        "data = {}\n",
        "page_ids = []\n",
        "\n",
        "for name in names:\n",
        "    payload = {\n",
        "    \"action\": \"query\",\n",
        "    \"list\": \"prefixsearch\",\n",
        "    \"pssearch\" : name,\n",
        "    \"pslimit\" : 10,\n",
        "    \"format\": \"json\",\n",
        "        }\n",
        "\n",
        "    response = rq.get(URL, params=payload)\n",
        "    print(response) # to confirm whether it was successful - both times 200 was printed, so indeed it was\n",
        "    data[name] = response.json()\n",
        "    page_ids += [page['pageid'] for page in data[name]['query']['prefixsearch']]\n",
        "\n"
      ],
      "metadata": {
        "id": "iZj34PNLbnTs"
      },
      "execution_count": null,
      "outputs": []
    },
    {
      "cell_type": "code",
      "source": [
        "# Exploring the structure to find where the page ids are nested:\n",
        "\n",
        "data.keys()\n",
        "# The keys are names of interest - so let's try 'Olivia'\n",
        "data['Olivia'].keys()\n",
        "# Accessing the 'query' key\n",
        "data['Olivia']['query'].keys()\n",
        "# Accessing the 'prefixsearch'\n",
        "data['Olivia']['query']['prefixsearch']\n",
        "# Evaluating the first element\n",
        "data['Olivia']['query']['prefixsearch'][0].keys()\n",
        "# Accessing and finding the crucial value in the 'pageid' key\n",
        "data['Olivia']['query']['prefixsearch'][0]['pageid']\n"
      ],
      "metadata": {
        "id": "3C8CvIVnNDaZ"
      },
      "execution_count": null,
      "outputs": []
    },
    {
      "cell_type": "code",
      "source": [
        "# PART 2: Downloading the articles.\n",
        "\n",
        "page_ids_string = \"|\".join(str(p) for p in page_ids)\n",
        "\n",
        "payload = {\n",
        "    \"action\": \"query\",\n",
        "    \"prop\": \"cirrusdoc\",\n",
        "    \"pageids\": page_ids_string,\n",
        "    \"format\": \"json\",\n",
        "  }\n",
        "\n",
        "response = rq.get(URL, params=payload)\n",
        "\n",
        "data = response.json()\n",
        "\n",
        "print(response) # Request was successful"
      ],
      "metadata": {
        "id": "gJzXkxWcOFqx"
      },
      "execution_count": null,
      "outputs": []
    },
    {
      "cell_type": "code",
      "source": [
        "# Locating the text in the dictionary structure for later use:\n",
        "\n",
        "pages = data[\"query\"][\"pages\"]\n",
        "# a more simplified version of our data\n",
        "\n",
        "articles = [p[\"cirrusdoc\"][0][\"source\"][\"text\"] for p in pages.values()]\n",
        "# a list, where each element is a text of each article of interest\n"
      ],
      "metadata": {
        "collapsed": true,
        "id": "PWDAoadXPmEp"
      },
      "execution_count": null,
      "outputs": []
    },
    {
      "cell_type": "code",
      "source": [
        "# PART 3: \"Cleaning\" words from text.\n",
        "\n",
        "def extract_lower_words(string):\n",
        "    \"\"\"\n",
        "    The function splits a string into a list of words consisting of only letter characters\n",
        "    in the lowercase format. It takes any string, makes it into lowercase,\n",
        "    then creates a list, where each element consists of characters\n",
        "    that are letters, that are continuously added to a placeholder string,\n",
        "    until a non-letter character is encountered. It returns a list of words that appeared\n",
        "    in the string, without any non-letter characters attached.\n",
        "\n",
        "    Args:\n",
        "        string (string): Any string.\n",
        "\n",
        "    Returns:\n",
        "        extracted_words (list): A list, where each element is each word from\n",
        "        the string, without any non-letter characters attached in lowercase.\n",
        "\n",
        "    \"\"\"\n",
        "    string_lower = string.lower()\n",
        "\n",
        "    current_word = \"\"\n",
        "    extracted_words = []\n",
        "    for char in string_lower:\n",
        "        if char.isalpha():\n",
        "            current_word += char\n",
        "        else:\n",
        "            if current_word:\n",
        "                extracted_words.append(current_word)\n",
        "                current_word = \"\"\n",
        "\n",
        "    return extracted_words"
      ],
      "metadata": {
        "id": "fwsxEppkl5C8"
      },
      "execution_count": null,
      "outputs": []
    },
    {
      "cell_type": "code",
      "source": [
        "# PART 4: Counting possesive pronouns for a list of specific articles.\n",
        "\n",
        "pronoun_count = []\n",
        "pronouns = [\"his\", \"her\", \"their\"]\n",
        "\n",
        "for article in articles:\n",
        "    clean_article = extract_lower_words(article)\n",
        "    article_pronouns = {pronoun: 0 for pronoun in pronouns}\n",
        "\n",
        "    for clean_word in clean_article:\n",
        "        if clean_word in pronouns:\n",
        "          article_pronouns[clean_word] += 1\n",
        "\n",
        "    pronoun_count.append(article_pronouns)\n"
      ],
      "metadata": {
        "id": "4hTCzh5TTEfm"
      },
      "execution_count": null,
      "outputs": []
    },
    {
      "cell_type": "code",
      "source": [
        "print(pronoun_count)\n",
        "pronoun_count\n",
        "\n",
        "# As we can see, a list consisting of a dictionary counter, where 'his', 'her' and 'their' were counted\n",
        "# in their appearance in each article was created."
      ],
      "metadata": {
        "id": "KHnR5GeonJaO"
      },
      "execution_count": null,
      "outputs": []
    },
    {
      "cell_type": "markdown",
      "source": [
        "## Project 3\n",
        "Gathering information on a list of news articles from the Parliament and the Guardian through webscraping."
      ],
      "metadata": {
        "id": "fA84SYa22r8T"
      }
    },
    {
      "cell_type": "code",
      "source": [
        "# Importing the necessary libraries\n",
        "\n",
        "import requests\n",
        "import json\n",
        "import time\n",
        "from string import punctuation\n",
        "from bs4 import BeautifulSoup\n",
        "from datetime import datetime\n"
      ],
      "metadata": {
        "id": "m1qplCo1329U"
      },
      "execution_count": null,
      "outputs": []
    },
    {
      "cell_type": "code",
      "source": [
        "def article_len(article_text):\n",
        "    \"\"\"\n",
        "    Takes a string representing the text of an article, then splits the string text into\n",
        "    separate words, and lastly counts only the actual words in the text (elements that are not punctuation).\n",
        "\n",
        "    Parameters:\n",
        "    -----------\n",
        "        article_text (str): a string representing the text of an article.\n",
        "\n",
        "    Returns:\n",
        "    --------\n",
        "        len_article (int) : a numeric value representing the amount of words in the article.\n",
        "    \"\"\"\n",
        "\n",
        "    words = [word for word in article_text.split() if word not in punctuation] # the article string is split, then list comprehension is used to create a list consisting of only elements in the article that are not in the 'punctuation' module from the string library\n",
        "    len_article = len(words) # lastly this word only list is counted and returned\n",
        "\n",
        "    return len_article\n"
      ],
      "metadata": {
        "id": "K0LVZwKh36MR"
      },
      "execution_count": null,
      "outputs": []
    },
    {
      "cell_type": "code",
      "source": [
        "def date_convert(date_string):\n",
        "    \"\"\"\n",
        "    Takes the date of publishing of an article from 'the Guardian' or 'the Parliament' (formatted as \"%Y-%m-%dT%H:%M:%S.%fZ', '%d %b %Y\" respectively),\n",
        "    and formats it to match the following date format: \"%d.%m.%Y\" (e.g. 01.01.2022).\n",
        "\n",
        "    Parameters:\n",
        "    -----------\n",
        "        date_string (str): a string representing the date of publishing of an article in 'the Guardian' or\n",
        "        'the Parliament' format (\"%Y-%m-%dT%H:%M:%S.%fZ', '%d %b %Y\" respectively).\n",
        "\n",
        "    Returns:\n",
        "    --------\n",
        "        (str) : a string representing the date of publishing of the article in the day.month.year format (\"%d.%m.%Y\").\n",
        "    \"\"\"\n",
        "\n",
        "    date_formats = ['%Y-%m-%dT%H:%M:%S.%fZ', '%d %b %Y'] # Here are the possible formats of the input string\n",
        "\n",
        "    # Now this function can go over the possible formats:\n",
        "\n",
        "    for date_format in date_formats:\n",
        "        try:\n",
        "            date_object = datetime.strptime(date_string, date_format) # and try to match the input date_string to one of them\n",
        "            return date_object.strftime(\"%d.%m.%Y\") # in order to then format this object with now a known/matched format - into a different one using strftime().\n",
        "\n",
        "        except ValueError:\n",
        "            continue"
      ],
      "metadata": {
        "id": "oEluNkgj385R"
      },
      "execution_count": null,
      "outputs": []
    },
    {
      "cell_type": "code",
      "source": [
        "# Reading the jsonl file into the colab environment.\n",
        "\n",
        "with open(\"links.jsonl\", \"r\") as file:\n",
        "    links = [json.loads(item) for item in file.readlines()]"
      ],
      "metadata": {
        "id": "HORoTC7u3-uH"
      },
      "execution_count": null,
      "outputs": []
    },
    {
      "cell_type": "code",
      "source": [
        "# Guardian scraper\n",
        "\n",
        "def guardian_scraper(link):\n",
        "    \"\"\"\n",
        "    Takes a link of an article from 'theguardian.com', and then scrapes the web-page from the link. Then, creates\n",
        "    a dictionary that holds specific scraped data from the link: title of the article, author name,\n",
        "    date of publishing, the summary/lead of the article and the entire text of the article itself.\n",
        "\n",
        "    Parameters:\n",
        "    -----------\n",
        "        link (str): a string representing the link to a specific 'the Guardian' article.\n",
        "\n",
        "    Returns:\n",
        "    --------\n",
        "        article_info (dict) : a dictionary containing scraped data about the provided link of an article:\n",
        "                              title of the article, author name, date of publishing, the summary/lead of article\n",
        "                              and the entire text of the article itself.\n",
        "    \"\"\"\n",
        "\n",
        "    if \"theguardian.com\" in link.lower(): # Checks if provided link is from theguardian.com\n",
        "\n",
        "        # Requesting the html data from a specific link:\n",
        "        response = requests.get(link)\n",
        "        html = BeautifulSoup(response.content, 'html.parser')\n",
        "\n",
        "        # Creating an empty dictionary that will hold the html sourced\n",
        "        # data about each 'the Guardian' article.\n",
        "        article_info = dict()\n",
        "\n",
        "        # Each key-value pair is established seperately for clarity.\n",
        "\n",
        "        article_info['title'] = html.select_one('div[style*=\"--grid-area:headline;\"] h1').text.strip()\n",
        "\n",
        "        author_element = html.select_one(\"div.dcr-1cfpnlw\").text.strip()\n",
        "        # below is the accounting for possibility of no author existing:\n",
        "        article_info['author'] = author_element if author_element else None\n",
        "\n",
        "        # I decided to source information about the date of publishing through this meta tag\n",
        "        # as the information sourced from it was exactly the same as the datatime in the string\n",
        "        # below the header, BUT was more convienent when trying to convert into the data format\n",
        "        # that was shown in the example dictionary.\n",
        "        article_info['date'] = date_convert(html.select_one('meta[property=\"article:published_time\"]').get('content'))\n",
        "\n",
        "        # The summary/lead of article\n",
        "        article_info['lead'] = html.select_one('div[style*=\"--grid-area:standfirst;\"] p').text.strip()\n",
        "\n",
        "        # The actual text of article - which is a joined list of each scraped paragraph using the html selector,\n",
        "        # Furthermore, not only was the text stripped using strip(), but I also used replace() to delete all \\n newlines\n",
        "        # which were unfortunately attached to some words, and ruined the readability of the text.\n",
        "        article_info['content'] = \" \".join([item.text.strip().replace('\\n', '') for item in html.select('div[id=\"maincontent\"] p')])\n",
        "\n",
        "        return article_info\n",
        "\n",
        "    else:\n",
        "         print(\"Article is not from theguardian.com. Function cannot run.\")\n",
        "         # Message that is printed to the user if article is not congruent with the function.\n"
      ],
      "metadata": {
        "id": "2sbLvFwY4C4y"
      },
      "execution_count": null,
      "outputs": []
    },
    {
      "cell_type": "code",
      "source": [
        "# Parliament scraper\n",
        "\n",
        "def parliament_scraper(link):\n",
        "    \"\"\"\n",
        "    Takes a link of an article from 'theparliamentmagazine.eu', and then scrapes the web-page from the link. Then, creates\n",
        "    a dictionary that holds specific scraped data from the link: title of the article, author name,\n",
        "    date of publishing, the summary/lead of the article and the entire text of the article itself.\n",
        "\n",
        "    Parameters:\n",
        "    -----------\n",
        "        link (str): a  string representing the link to a specific 'the Parliament' article.\n",
        "\n",
        "    Returns:\n",
        "    --------\n",
        "        article_info (dict) : a dictionary containing scraped data about the provided link of an article:\n",
        "                              title of the article, author name, date of publishing, the summary/lead of article\n",
        "                              and the entire text of the article itself.\n",
        "    \"\"\"\n",
        "\n",
        "    if \"theparliamentmagazine.eu\" in link.lower(): # Checks if provided link is from theparliamentmagazine.eu\n",
        "\n",
        "        # Requesting the html data from a specific link:\n",
        "        response = requests.get(link)\n",
        "        html = BeautifulSoup(response.content, 'html.parser')\n",
        "\n",
        "        # Creating an empty dictionary that will hold the html sourced\n",
        "        # data about each 'the Guardian' article.\n",
        "        article_info = dict()\n",
        "\n",
        "        # The title of the article - I wish to once again note that the div tag is provided for context and readability\n",
        "        # especially if a reader/myself would want to cross check this in the future with the html structure.\n",
        "        article_info['title'] = html.select_one(\"div.av-title h1\").text.strip()\n",
        "\n",
        "        # The author name + accounting for posibility of no author:\n",
        "        author_element = html.select_one(\"div.av-authInfo a\").text.strip()\n",
        "        article_info['author'] = author_element if author_element else None\n",
        "\n",
        "        # The date - this time sourced from the headline string, not meta data, as there were two types of dates here:\n",
        "        # one for publishing and other for last modification - for clarity I simply went with the field where there was only one date provided.\n",
        "        date_element = html.select_one(\"p.av-date\").text.strip()\n",
        "        article_info['date'] = date_convert(date_element)\n",
        "\n",
        "        # The summary/lead of the article:\n",
        "        article_info['lead'] = html.select_one(\"div.av-title div\").text.strip()\n",
        "\n",
        "        # The actual text of the article,\n",
        "        # again newlines were accounted for,\n",
        "        # a new endeavor here was to only include paragraphs which were \"direct children\" of this specific div tag,\n",
        "        # and not all types of paragraphs at this level (otherwise paragraphs not exclusive to the article like \"Read more on X\" were included),\n",
        "        # and paragraphs that did not have a \"strong\" class - these were also non-article text related paragraphs.\n",
        "\n",
        "        article_info['content'] = \" \".join([paragraph.text.strip().replace('\\n', '') for paragraph in html.select(\"div.av-main > p\") if not paragraph.find(\"strong\")])\n",
        "\n",
        "        return article_info\n",
        "\n",
        "    else:\n",
        "        print(\"Article is not from theparliamentmagazine.eu. Function cannot run.\")\n"
      ],
      "metadata": {
        "id": "RL5vWRYl4FTH"
      },
      "execution_count": null,
      "outputs": []
    },
    {
      "cell_type": "code",
      "source": [
        "articles_scraped = []\n",
        "\n",
        "for link in links:\n",
        "    if \"theguardian.com\" in link['url'].lower(): # For 'the Guardian' articles\n",
        "        link_info = guardian_scraper(link['url'])\n",
        "\n",
        "    else: # For 'the Parliament' articles\n",
        "        link_info = parliament_scraper(link['url'])\n",
        "\n",
        "    # Now adding the data from the original jsonl file following the provided example:\n",
        "    link_info['source'] = link['source_name']\n",
        "    link_info['fb'] = {\n",
        "        'likes' : link['fb']['likes'],\n",
        "        'shares' : link['fb']['shares'],\n",
        "        'comments' : link['fb']['comments']\n",
        "          }\n",
        "    link_info['length'] = article_len(link_info['content'])\n",
        "\n",
        "    articles_scraped.append(link_info)\n",
        "    time.sleep(1) # To not overwhelm the requests."
      ],
      "metadata": {
        "id": "oiCdnwZb4Ljh"
      },
      "execution_count": null,
      "outputs": []
    },
    {
      "cell_type": "code",
      "source": [
        "# Writing the list object into a single jsonl file\n",
        "\n",
        "with open(\"scraped_article_info.jsonl\", \"w\", encoding = \"utf-8\") as file:\n",
        "    for line in articles_scraped:\n",
        "        file.write(json.dumps(line, ensure_ascii = False) + \"\\n\")"
      ],
      "metadata": {
        "id": "RGV_QJ074MPM"
      },
      "execution_count": null,
      "outputs": []
    },
    {
      "cell_type": "markdown",
      "source": [
        "## Project 4\n",
        "Gathering 100 submissions from the todayilearned subreddit, which include the word \"science\".\n",
        "\n",
        "Then saving 10 submissions with the biggest number of comments, along with some information about them into a json file."
      ],
      "metadata": {
        "id": "6uNMndHi4jBU"
      }
    },
    {
      "cell_type": "code",
      "source": [
        "# Pip installing and importing the praw library necessary later.\n",
        "\n",
        "!pip install praw\n",
        "import praw\n",
        "\n",
        "# Assigning the secret user related environmental variables to named objects.\n",
        "\n",
        "from google.colab import userdata\n",
        "\n",
        "client_id = userdata.get(\"client_id\")\n",
        "client_secret = userdata.get(\"client_secret\")\n",
        "password = userdata.get(\"password\")\n",
        "user_agent = userdata.get(\"user_agent\")\n",
        "username = userdata.get(\"username\")"
      ],
      "metadata": {
        "id": "i3xtz-Xh4iwY"
      },
      "execution_count": null,
      "outputs": []
    },
    {
      "cell_type": "code",
      "source": [
        "# Requesting specific submissions from r/todayilearned\n",
        "\n",
        "reddit = praw.Reddit(\n",
        "    client_id=client_id,\n",
        "    client_secret=client_secret,\n",
        "    password=password,\n",
        "    user_agent=user_agent,\n",
        "    username=username,\n",
        "    check_for_async=False,)\n",
        "\n",
        "submissions = [item for item in reddit.subreddit(\"todayilearned\").search(query = \"science\", sort = \"comments\", limit = 100)]\n"
      ],
      "metadata": {
        "id": "pqzrZ40a5EOc"
      },
      "execution_count": null,
      "outputs": []
    },
    {
      "cell_type": "code",
      "source": [
        "# A function to convert UTC into human readable format as provided in class.\n",
        "\n",
        "from datetime import datetime\n",
        "\n",
        "def convert_date(date_float: float) -> str:\n",
        "    \"\"\"\n",
        "    Takes a date in epoch time format and converts it into a string in human-readable date format.\n",
        "\n",
        "    Parameters:\n",
        "    -----------\n",
        "        date_float (float): a float representing a date in epoch time format.\n",
        "\n",
        "    Returns:\n",
        "    --------\n",
        "        (str) : a string representing a date in human-readable format.\n",
        "    \"\"\"\n",
        "    return datetime.fromtimestamp(date_float).strftime(\"%d-%m-%Y %H:%M:%S\")"
      ],
      "metadata": {
        "id": "1uEOLfr85N1C"
      },
      "execution_count": null,
      "outputs": []
    },
    {
      "cell_type": "code",
      "source": [
        "# Creating a list of dictionaries for the 10 items with highest no of comments\n",
        "# which will be later uploaded into a json.\n",
        "\n",
        "output = [{\n",
        "            key : value for key, value in {\n",
        "              'author_name' : item.author.name,\n",
        "              'created_utc' : convert_date(item.created_utc), # for the date in readable format - convert_date()\n",
        "              'title' : item.title,\n",
        "              'num_comments' : item.num_comments,\n",
        "              'url' : item.url\n",
        "                }.items() if value is not None\n",
        "           } for item in submissions[:10]\n",
        "          ]"
      ],
      "metadata": {
        "id": "U71-_sfx5Sb2"
      },
      "execution_count": null,
      "outputs": []
    },
    {
      "cell_type": "code",
      "source": [
        "# Writing the list object into a single jsonl file\n",
        "\n",
        "with open(\"reddit_posts_info.jsonl\", \"w\", encoding = \"utf-8\") as file:\n",
        "    for line in output:\n",
        "        file.write(json.dumps(line, ensure_ascii = False) + \"\\n\")"
      ],
      "metadata": {
        "id": "1WUX76PN5bBS"
      },
      "execution_count": null,
      "outputs": []
    }
  ],
  "metadata": {
    "kernelspec": {
      "display_name": "Python 3.10.7 64-bit",
      "language": "python",
      "name": "python3"
    },
    "language_info": {
      "codemirror_mode": {
        "name": "ipython",
        "version": 3
      },
      "file_extension": ".py",
      "mimetype": "text/x-python",
      "name": "python",
      "nbconvert_exporter": "python",
      "pygments_lexer": "ipython3",
      "version": "3.10.8"
    },
    "vscode": {
      "interpreter": {
        "hash": "b0fa6594d8f4cbf19f97940f81e996739fb7646882a419484c72d19e05852a7e"
      }
    },
    "colab": {
      "provenance": []
    }
  },
  "nbformat": 4,
  "nbformat_minor": 0
}